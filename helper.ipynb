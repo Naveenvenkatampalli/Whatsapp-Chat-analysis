{
 "cells": [
  {
   "cell_type": "code",
   "execution_count": 11,
   "source": [
    "import re\r\n",
    "import pandas as pd\r\n",
    "f=open('C:\\\\Users\\\\Admin\\\\Desktop\\\\Whatsapp_chat_analysis\\\\WhatsApp_Chat_with_We_Reter....txt','r',encoding='utf=8')\r\n",
    "data=f.read()\r\n",
    "pattern='\\d{1,2}/\\d{1,2}/\\d{2,4},\\s\\d{1,2}:\\d{2}\\s-\\s'\r\n",
    "messages=re.split(pattern,data)[1:]\r\n",
    "print(len(messages))"
   ],
   "outputs": [
    {
     "output_type": "stream",
     "name": "stdout",
     "text": [
      "206\n"
     ]
    }
   ],
   "metadata": {}
  },
  {
   "cell_type": "code",
   "execution_count": 12,
   "source": [
    "dates=re.findall(pattern,data)"
   ],
   "outputs": [],
   "metadata": {}
  },
  {
   "cell_type": "code",
   "execution_count": 13,
   "source": [
    "len(dates)"
   ],
   "outputs": [
    {
     "output_type": "execute_result",
     "data": {
      "text/plain": [
       "206"
      ]
     },
     "metadata": {},
     "execution_count": 13
    }
   ],
   "metadata": {}
  },
  {
   "cell_type": "code",
   "execution_count": 14,
   "source": [
    "df=pd.DataFrame({'user_message':messages,'message_date':dates})"
   ],
   "outputs": [],
   "metadata": {}
  },
  {
   "cell_type": "code",
   "execution_count": 22,
   "source": [
    "df.head()"
   ],
   "outputs": [
    {
     "output_type": "execute_result",
     "data": {
      "text/html": [
       "<div>\n",
       "<style scoped>\n",
       "    .dataframe tbody tr th:only-of-type {\n",
       "        vertical-align: middle;\n",
       "    }\n",
       "\n",
       "    .dataframe tbody tr th {\n",
       "        vertical-align: top;\n",
       "    }\n",
       "\n",
       "    .dataframe thead th {\n",
       "        text-align: right;\n",
       "    }\n",
       "</style>\n",
       "<table border=\"1\" class=\"dataframe\">\n",
       "  <thead>\n",
       "    <tr style=\"text-align: right;\">\n",
       "      <th></th>\n",
       "      <th>user_message</th>\n",
       "      <th>message_date</th>\n",
       "    </tr>\n",
       "  </thead>\n",
       "  <tbody>\n",
       "    <tr>\n",
       "      <th>0</th>\n",
       "      <td>Messages and calls are end-to-end encrypted. N...</td>\n",
       "      <td>05/05/21, 9:39 -</td>\n",
       "    </tr>\n",
       "    <tr>\n",
       "      <th>1</th>\n",
       "      <td>You created group \"Agency..\"\\n</td>\n",
       "      <td>05/05/21, 9:39 -</td>\n",
       "    </tr>\n",
       "    <tr>\n",
       "      <th>2</th>\n",
       "      <td>Naveen Kumar: https://youtu.be/Y_sVv_QsL2I\\n</td>\n",
       "      <td>05/05/21, 9:40 -</td>\n",
       "    </tr>\n",
       "    <tr>\n",
       "      <th>3</th>\n",
       "      <td>Naveen Kumar: I think now we need to create fr...</td>\n",
       "      <td>05/05/21, 9:41 -</td>\n",
       "    </tr>\n",
       "    <tr>\n",
       "      <th>4</th>\n",
       "      <td>Vamc Aarya: Yes\\n</td>\n",
       "      <td>05/05/21, 9:42 -</td>\n",
       "    </tr>\n",
       "  </tbody>\n",
       "</table>\n",
       "</div>"
      ],
      "text/plain": [
       "                                        user_message       message_date\n",
       "0  Messages and calls are end-to-end encrypted. N...  05/05/21, 9:39 - \n",
       "1                     You created group \"Agency..\"\\n  05/05/21, 9:39 - \n",
       "2       Naveen Kumar: https://youtu.be/Y_sVv_QsL2I\\n  05/05/21, 9:40 - \n",
       "3  Naveen Kumar: I think now we need to create fr...  05/05/21, 9:41 - \n",
       "4                                  Vamc Aarya: Yes\\n  05/05/21, 9:42 - "
      ]
     },
     "metadata": {},
     "execution_count": 22
    }
   ],
   "metadata": {}
  },
  {
   "cell_type": "code",
   "execution_count": 26,
   "source": [
    "df['message_date']=pd.to_datetime(df['message_date'],format='%d/%m/%y, %H:%M - ')"
   ],
   "outputs": [],
   "metadata": {}
  },
  {
   "cell_type": "code",
   "execution_count": 27,
   "source": [
    "df.head()"
   ],
   "outputs": [
    {
     "output_type": "execute_result",
     "data": {
      "text/html": [
       "<div>\n",
       "<style scoped>\n",
       "    .dataframe tbody tr th:only-of-type {\n",
       "        vertical-align: middle;\n",
       "    }\n",
       "\n",
       "    .dataframe tbody tr th {\n",
       "        vertical-align: top;\n",
       "    }\n",
       "\n",
       "    .dataframe thead th {\n",
       "        text-align: right;\n",
       "    }\n",
       "</style>\n",
       "<table border=\"1\" class=\"dataframe\">\n",
       "  <thead>\n",
       "    <tr style=\"text-align: right;\">\n",
       "      <th></th>\n",
       "      <th>user_message</th>\n",
       "      <th>message_date</th>\n",
       "    </tr>\n",
       "  </thead>\n",
       "  <tbody>\n",
       "    <tr>\n",
       "      <th>0</th>\n",
       "      <td>Messages and calls are end-to-end encrypted. N...</td>\n",
       "      <td>2021-05-05 09:39:00</td>\n",
       "    </tr>\n",
       "    <tr>\n",
       "      <th>1</th>\n",
       "      <td>You created group \"Agency..\"\\n</td>\n",
       "      <td>2021-05-05 09:39:00</td>\n",
       "    </tr>\n",
       "    <tr>\n",
       "      <th>2</th>\n",
       "      <td>Naveen Kumar: https://youtu.be/Y_sVv_QsL2I\\n</td>\n",
       "      <td>2021-05-05 09:40:00</td>\n",
       "    </tr>\n",
       "    <tr>\n",
       "      <th>3</th>\n",
       "      <td>Naveen Kumar: I think now we need to create fr...</td>\n",
       "      <td>2021-05-05 09:41:00</td>\n",
       "    </tr>\n",
       "    <tr>\n",
       "      <th>4</th>\n",
       "      <td>Vamc Aarya: Yes\\n</td>\n",
       "      <td>2021-05-05 09:42:00</td>\n",
       "    </tr>\n",
       "  </tbody>\n",
       "</table>\n",
       "</div>"
      ],
      "text/plain": [
       "                                        user_message        message_date\n",
       "0  Messages and calls are end-to-end encrypted. N... 2021-05-05 09:39:00\n",
       "1                     You created group \"Agency..\"\\n 2021-05-05 09:39:00\n",
       "2       Naveen Kumar: https://youtu.be/Y_sVv_QsL2I\\n 2021-05-05 09:40:00\n",
       "3  Naveen Kumar: I think now we need to create fr... 2021-05-05 09:41:00\n",
       "4                                  Vamc Aarya: Yes\\n 2021-05-05 09:42:00"
      ]
     },
     "metadata": {},
     "execution_count": 27
    }
   ],
   "metadata": {}
  },
  {
   "cell_type": "code",
   "execution_count": 28,
   "source": [
    "users=[]\r\n",
    "messages=[]\r\n",
    "for message in df['user_message']:\r\n",
    "    entry=re.split('([\\w\\W+?]):\\s',message)\r\n",
    "    if entry[1:]:\r\n",
    "        users.append(entry[1])\r\n",
    "        messages.append(entry[2])\r\n",
    "    else:\r\n",
    "        users.append('group_notification')\r\n",
    "        messages.append(entry[0])\r\n"
   ],
   "outputs": [],
   "metadata": {}
  },
  {
   "cell_type": "code",
   "execution_count": 29,
   "source": [
    "df['user']=users\r\n",
    "df['message']=messages\r\n",
    "df.drop(columns=['user_message'],inplace=True)"
   ],
   "outputs": [],
   "metadata": {}
  },
  {
   "cell_type": "code",
   "execution_count": 33,
   "source": [
    "df['user'].value_counts()"
   ],
   "outputs": [
    {
     "output_type": "execute_result",
     "data": {
      "text/plain": [
       "a                     120\n",
       "r                      84\n",
       "group_notification      2\n",
       "Name: user, dtype: int64"
      ]
     },
     "metadata": {},
     "execution_count": 33
    }
   ],
   "metadata": {}
  },
  {
   "cell_type": "code",
   "execution_count": 39,
   "source": [
    "df['year']=df['message_date'].dt.year\r\n",
    "df['month']=df['message_date'].dt.month\r\n",
    "df['day']=df['message_date'].dt.day\r\n",
    "df['hour']=df['message_date'].dt.hour\r\n",
    "df['minute']=df['message_date'].dt.minute\r\n",
    "df.drop(columns=['month_name'],inplace=True)\r\n"
   ],
   "outputs": [],
   "metadata": {}
  },
  {
   "cell_type": "code",
   "execution_count": 40,
   "source": [
    "df.head()"
   ],
   "outputs": [
    {
     "output_type": "execute_result",
     "data": {
      "text/html": [
       "<div>\n",
       "<style scoped>\n",
       "    .dataframe tbody tr th:only-of-type {\n",
       "        vertical-align: middle;\n",
       "    }\n",
       "\n",
       "    .dataframe tbody tr th {\n",
       "        vertical-align: top;\n",
       "    }\n",
       "\n",
       "    .dataframe thead th {\n",
       "        text-align: right;\n",
       "    }\n",
       "</style>\n",
       "<table border=\"1\" class=\"dataframe\">\n",
       "  <thead>\n",
       "    <tr style=\"text-align: right;\">\n",
       "      <th></th>\n",
       "      <th>message_date</th>\n",
       "      <th>user</th>\n",
       "      <th>message</th>\n",
       "      <th>year</th>\n",
       "      <th>day</th>\n",
       "      <th>hour</th>\n",
       "      <th>minute</th>\n",
       "      <th>month</th>\n",
       "    </tr>\n",
       "  </thead>\n",
       "  <tbody>\n",
       "    <tr>\n",
       "      <th>0</th>\n",
       "      <td>2021-05-05 09:39:00</td>\n",
       "      <td>group_notification</td>\n",
       "      <td>Messages and calls are end-to-end encrypted. N...</td>\n",
       "      <td>2021</td>\n",
       "      <td>5</td>\n",
       "      <td>9</td>\n",
       "      <td>39</td>\n",
       "      <td>5</td>\n",
       "    </tr>\n",
       "    <tr>\n",
       "      <th>1</th>\n",
       "      <td>2021-05-05 09:39:00</td>\n",
       "      <td>group_notification</td>\n",
       "      <td>You created group \"Agency..\"\\n</td>\n",
       "      <td>2021</td>\n",
       "      <td>5</td>\n",
       "      <td>9</td>\n",
       "      <td>39</td>\n",
       "      <td>5</td>\n",
       "    </tr>\n",
       "    <tr>\n",
       "      <th>2</th>\n",
       "      <td>2021-05-05 09:40:00</td>\n",
       "      <td>r</td>\n",
       "      <td>https://youtu.be/Y_sVv_QsL2I\\n</td>\n",
       "      <td>2021</td>\n",
       "      <td>5</td>\n",
       "      <td>9</td>\n",
       "      <td>40</td>\n",
       "      <td>5</td>\n",
       "    </tr>\n",
       "    <tr>\n",
       "      <th>3</th>\n",
       "      <td>2021-05-05 09:41:00</td>\n",
       "      <td>r</td>\n",
       "      <td>I think now we need to create framework and ne...</td>\n",
       "      <td>2021</td>\n",
       "      <td>5</td>\n",
       "      <td>9</td>\n",
       "      <td>41</td>\n",
       "      <td>5</td>\n",
       "    </tr>\n",
       "    <tr>\n",
       "      <th>4</th>\n",
       "      <td>2021-05-05 09:42:00</td>\n",
       "      <td>a</td>\n",
       "      <td>Yes\\n</td>\n",
       "      <td>2021</td>\n",
       "      <td>5</td>\n",
       "      <td>9</td>\n",
       "      <td>42</td>\n",
       "      <td>5</td>\n",
       "    </tr>\n",
       "  </tbody>\n",
       "</table>\n",
       "</div>"
      ],
      "text/plain": [
       "         message_date                user  \\\n",
       "0 2021-05-05 09:39:00  group_notification   \n",
       "1 2021-05-05 09:39:00  group_notification   \n",
       "2 2021-05-05 09:40:00                   r   \n",
       "3 2021-05-05 09:41:00                   r   \n",
       "4 2021-05-05 09:42:00                   a   \n",
       "\n",
       "                                             message  year  day  hour  minute  \\\n",
       "0  Messages and calls are end-to-end encrypted. N...  2021    5     9      39   \n",
       "1                     You created group \"Agency..\"\\n  2021    5     9      39   \n",
       "2                     https://youtu.be/Y_sVv_QsL2I\\n  2021    5     9      40   \n",
       "3  I think now we need to create framework and ne...  2021    5     9      41   \n",
       "4                                              Yes\\n  2021    5     9      42   \n",
       "\n",
       "   month  \n",
       "0      5  \n",
       "1      5  \n",
       "2      5  \n",
       "3      5  \n",
       "4      5  "
      ]
     },
     "metadata": {},
     "execution_count": 40
    }
   ],
   "metadata": {}
  },
  {
   "cell_type": "code",
   "execution_count": null,
   "source": [],
   "outputs": [],
   "metadata": {}
  }
 ],
 "metadata": {
  "orig_nbformat": 4,
  "language_info": {
   "name": "python",
   "version": "3.9.6",
   "mimetype": "text/x-python",
   "codemirror_mode": {
    "name": "ipython",
    "version": 3
   },
   "pygments_lexer": "ipython3",
   "nbconvert_exporter": "python",
   "file_extension": ".py"
  },
  "kernelspec": {
   "name": "python3",
   "display_name": "Python 3.9.6 64-bit"
  },
  "interpreter": {
   "hash": "84839a00ad72f20e4819288807708c004cab120749c8bd08ab7331aed828b29d"
  }
 },
 "nbformat": 4,
 "nbformat_minor": 2
}